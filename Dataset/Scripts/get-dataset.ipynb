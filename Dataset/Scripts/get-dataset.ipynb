{
 "cells": [
  {
   "cell_type": "markdown",
   "metadata": {},
   "source": [
    "# El siguiente notebook contiene el script utilizado para obtener el datase"
   ]
  },
  {
   "cell_type": "markdown",
   "metadata": {},
   "source": [
    "### Librería pandas"
   ]
  },
  {
   "cell_type": "code",
   "execution_count": null,
   "metadata": {},
   "outputs": [],
   "source": [
    "import pandas as pd"
   ]
  },
  {
   "cell_type": "markdown",
   "metadata": {},
   "source": [
    "### Función para procesar el archivo csv original"
   ]
  },
  {
   "cell_type": "code",
   "execution_count": null,
   "metadata": {},
   "outputs": [],
   "source": [
    "def process_csv(file_path):\n",
    "    try:\n",
    "        # Leer el archivo CSV\n",
    "        df = pd.read_csv(file_path)\n",
    "\n",
    "        # Validar que las columnas requeridas existan\n",
    "        required_columns = {'patient_id', 'image view', 'image file path'}\n",
    "        if not required_columns.issubset(df.columns):\n",
    "            raise ValueError(f\"El archivo CSV debe contener las columnas: {', '.join(required_columns)}\")\n",
    "\n",
    "        # Filtrar el DataFrame por la columna 'image view' con valor 'MLO'\n",
    "        filtered_df = df[df['image view'] == 'MLO']\n",
    "\n",
    "        return filtered_df\n",
    "\n",
    "    except FileNotFoundError:\n",
    "        print(f\"El archivo '{file_path}' no se encontró.\")\n",
    "    except ValueError as e:\n",
    "        print(e)\n",
    "    except Exception as e:\n",
    "        print(f\"Ocurrió un error inesperado: {e}\")"
   ]
  },
  {
   "cell_type": "code",
   "execution_count": null,
   "metadata": {},
   "outputs": [],
   "source": [
    "# Ejecución del código\n",
    "# Ruta al archivo CSV\n",
    "csv_file_path = '/home/cancer/Cancer/mass_case_description_train_set.csv'\n",
    "\n",
    "# Llamar a la función y obtener el DataFrame filtrado\n",
    "filtered_mlo_dataframe = process_csv(csv_file_path)\n",
    "\n",
    "if filtered_mlo_dataframe is not None:\n",
    "    print(\"DataFrame filtrado por 'image view' con valor 'MLO':\")\n",
    "    print(filtered_mlo_dataframe.iloc[0])"
   ]
  },
  {
   "cell_type": "code",
   "execution_count": null,
   "metadata": {},
   "outputs": [],
   "source": [
    "#Script del Profesor para lectura de la imágen\n",
    "\n",
    "import matplotlib.pyplot as plt\n",
    "import pydicom\n",
    "\n",
    "url=\"/mnt/Datos/Cancer/CBIS-DDSM/Mass-Training_P_02079_RIGHT_MLO/07-20-2016-DDSM-NA-29838/1.000000-full mammogram images-90663/1-1.dcm\"\n",
    "url=filtered_mlo_dataframe.iloc[0]['image file path']\n",
    "dicom_file = pydicom.dcmread(url)\n",
    "image = dicom_file.pixel_array\n",
    "print(type(image))\n",
    "# Mostrar la imagen\n",
    "plt.imshow(image)\n",
    "plt.show()"
   ]
  },
  {
   "cell_type": "markdown",
   "metadata": {},
   "source": [
    "## **Importante Genera un Error debido a la forma de la ruta**"
   ]
  }
 ],
 "metadata": {
  "kernelspec": {
   "display_name": "DEEP-A-Z",
   "language": "python",
   "name": "python3"
  },
  "language_info": {
   "name": "python",
   "version": "3.13.1"
  }
 },
 "nbformat": 4,
 "nbformat_minor": 2
}
