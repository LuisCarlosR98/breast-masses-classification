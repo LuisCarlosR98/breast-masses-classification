{
 "cells": [
  {
   "cell_type": "markdown",
   "id": "bb6411cf",
   "metadata": {},
   "source": [
    "# Autoencoder Métricas"
   ]
  },
  {
   "cell_type": "markdown",
   "id": "57bd8882",
   "metadata": {},
   "source": [
    "## Obtención de los datos de entrenamiento y validación"
   ]
  },
  {
   "cell_type": "code",
   "execution_count": null,
   "id": "2682698e",
   "metadata": {
    "vscode": {
     "languageId": "plaintext"
    }
   },
   "outputs": [],
   "source": [
    "import pickle\n",
    "import random\n",
    "import numpy as np\n",
    "\n",
    "def getMammographyDataset():\n",
    "    file_path = '/content/dataset/dataset_256_256_CBIS-DDSM_dict.pkl'\n",
    "    with open(file_path, 'rb') as file:\n",
    "        dataset = pickle.load(file)\n",
    "\n",
    "    keys = list(dataset.keys())\n",
    "    random.shuffle(keys)\n",
    "\n",
    "    split_index = int(len(keys) * 0.7)\n",
    "\n",
    "    train_keys = keys[:split_index]\n",
    "    test_keys = keys[split_index:]\n",
    "\n",
    "    x_ray_train = np.array([dataset[key]['image_file_numpy'] for key in train_keys])\n",
    "    y_roi_train = np.array([dataset[key]['roi_mask_file_numpy'] for key in train_keys])\n",
    "\n",
    "    x_ray_test = np.array([dataset[key]['image_file_numpy'] for key in test_keys])\n",
    "    y_roi_test = np.array([dataset[key]['roi_mask_file_numpy'] for key in test_keys])\n",
    "\n",
    "    return (x_ray_train, y_roi_train), (x_ray_test, y_roi_test)"
   ]
  },
  {
   "cell_type": "markdown",
   "id": "3ecf93b2",
   "metadata": {},
   "source": [
    "## Evaluación del generador Autoencoder-Unet CON capa de atención"
   ]
  },
  {
   "cell_type": "code",
   "execution_count": null,
   "id": "77b87cb0",
   "metadata": {
    "vscode": {
     "languageId": "plaintext"
    }
   },
   "outputs": [],
   "source": [
    "## CARGA DEL MODELO\n",
    "import tensorflow as tf\n",
    "from tensorflow import keras\n",
    "\n",
    "# Obtener el dataset\n",
    "(x_ray_train, y_roi_train), (x_ray_test, y_roi_test) = getMammographyDataset()\n",
    "\n",
    "# Carga el modelo desde el archivo .keras\n",
    "autoencoder_dca = keras.models.load_model(\"autoencoder_dca.keras\")"
   ]
  },
  {
   "cell_type": "code",
   "execution_count": null,
   "id": "4283980d",
   "metadata": {
    "vscode": {
     "languageId": "plaintext"
    }
   },
   "outputs": [],
   "source": [
    "# Generar una imagen a partir de una entrada\n",
    "decoded_imgs_dca = autoencoder_dca.predict(x_ray_test)\n",
    "predictions_bin_dca = (decoded_imgs_dca > 0.5).astype(np.uint8)"
   ]
  },
  {
   "cell_type": "code",
   "execution_count": null,
   "id": "9938fe2a",
   "metadata": {
    "vscode": {
     "languageId": "plaintext"
    }
   },
   "outputs": [],
   "source": [
    "import matplotlib.pyplot as plt\n",
    "\n",
    "HEIGHT = 256\n",
    "WIDTH = 256\n",
    "\n",
    "# Mostrar las imágenes originales y generadas\n",
    "n = 15  # Número de imágenes a mostrar\n",
    "plt.figure(figsize=(20, 4))\n",
    "for i in range(n):\n",
    "    # Muestra la imagen original\n",
    "    ax = plt.subplot(3, n, i + 1)\n",
    "    plt.imshow(x_ray_test[i].reshape(HEIGHT, WIDTH), cmap=\"gray\")\n",
    "    plt.title(\"Original\")\n",
    "    plt.gray()\n",
    "    ax.get_xaxis().set_visible(False)\n",
    "    ax.get_yaxis().set_visible(False)\n",
    "\n",
    "    # Muestra la imagen reconstruida\n",
    "    ax = plt.subplot(3, n, i + 1 + n)\n",
    "    plt.imshow(predictions_bin_dca[i].reshape(HEIGHT, WIDTH), cmap=\"gray\")\n",
    "    plt.title(\"Generada\")\n",
    "    plt.gray()\n",
    "    ax.get_xaxis().set_visible(False)\n",
    "    ax.get_yaxis().set_visible(False)\n",
    "\n",
    "    # Muestra la imagen original del roi\n",
    "    ax = plt.subplot(3, n, i + 1 + n + n)\n",
    "    plt.imshow(y_roi_test[i].reshape(HEIGHT, WIDTH), cmap=\"gray\")\n",
    "    plt.title(\"Original Roi\")\n",
    "    plt.gray()\n",
    "    ax.get_xaxis().set_visible(False)\n",
    "    ax.get_yaxis().set_visible(False)\n",
    "\n",
    "plt.show()"
   ]
  },
  {
   "cell_type": "code",
   "execution_count": null,
   "id": "7b9c14b5",
   "metadata": {
    "vscode": {
     "languageId": "plaintext"
    }
   },
   "outputs": [],
   "source": [
    "import numpy as np\n",
    "\n",
    "def dice_coefficient(y_true, y_pred):\n",
    "    \"\"\"\n",
    "    Calcula el coeficiente de Dice entre dos máscaras binarias.\n",
    "\n",
    "    Parámetros:\n",
    "    - y_true: np.ndarray, máscara de referencia (ground truth).\n",
    "    - y_pred: np.ndarray, máscara predicha.\n",
    "\n",
    "    Retorna:\n",
    "    - coeficiente de Dice (float).\n",
    "    \"\"\"\n",
    "    y_true = np.asarray(y_true).astype(bool)\n",
    "    y_pred = np.asarray(y_pred).astype(bool)\n",
    "\n",
    "    if y_true.shape != y_pred.shape:\n",
    "        raise ValueError(\"Las máscaras deben tener la misma forma.\")\n",
    "\n",
    "    intersection = np.logical_and(y_true, y_pred).sum()\n",
    "    total = y_true.sum() + y_pred.sum()\n",
    "\n",
    "    if total == 0:\n",
    "      print('vacias')\n",
    "      return 1.0  # Ambas máscaras están vacías\n",
    "\n",
    "    return 2.0 * intersection / total"
   ]
  },
  {
   "cell_type": "code",
   "execution_count": null,
   "id": "0ef6f946",
   "metadata": {
    "vscode": {
     "languageId": "plaintext"
    }
   },
   "outputs": [],
   "source": [
    "dice_scores_dca = []\n",
    "\n",
    "for i in range(len(x_ray_test)):\n",
    "    y_true = y_roi_test[i].squeeze()\n",
    "    y_pred = predictions_bin_dca[i].squeeze()\n",
    "\n",
    "    dice = dice_coefficient(y_true, y_pred)\n",
    "\n",
    "    dice_scores_dca.append(dice)\n",
    "\n",
    "max(dice_scores_dca)"
   ]
  },
  {
   "cell_type": "code",
   "execution_count": null,
   "id": "8de22dd0",
   "metadata": {
    "vscode": {
     "languageId": "plaintext"
    }
   },
   "outputs": [],
   "source": [
    "import matplotlib.pyplot as plt\n",
    "\n",
    "eje_x = list(range(1, 199))\n",
    "\n",
    "# Datos de ejemplo\n",
    "x = eje_x\n",
    "y = dice_scores_dca\n",
    "\n",
    "# Crear la figura y los ejes\n",
    "fig, ax = plt.subplots()\n",
    "\n",
    "# Trazar los datos\n",
    "ax.plot(x, y, marker='^')  # 'o' define un marcador circular en cada punto\n",
    "\n",
    "# Personalizar el gráfico\n",
    "ax.set_xlabel(\"Predictions vs Test images\")\n",
    "ax.set_ylabel(\"Dice Coefficient\")\n",
    "ax.set_title(\"Autoencoder-Unet-DCA\")\n",
    "\n",
    "# Mostrar el gráfico\n",
    "plt.show()"
   ]
  },
  {
   "cell_type": "markdown",
   "id": "51cea7fd",
   "metadata": {},
   "source": [
    "## Evaluación del generador Autoencoder-Unet SIN capa de atención"
   ]
  },
  {
   "cell_type": "code",
   "execution_count": null,
   "id": "094a8d32",
   "metadata": {
    "vscode": {
     "languageId": "plaintext"
    }
   },
   "outputs": [],
   "source": [
    "## CARGA DEL MODELO\n",
    "import tensorflow as tf\n",
    "from tensorflow import keras\n",
    "\n",
    "# Obtener el dataset\n",
    "#(x_ray_train, y_roi_train), (x_ray_test, y_roi_test) = getMammographyDataset()\n",
    "\n",
    "# Carga el modelo desde el archivo .keras\n",
    "autoencoder = keras.models.load_model(\"unet_autoencoder.keras\")"
   ]
  },
  {
   "cell_type": "code",
   "execution_count": null,
   "id": "8c929ade",
   "metadata": {
    "vscode": {
     "languageId": "plaintext"
    }
   },
   "outputs": [],
   "source": [
    "# Generar una imagen a partir de una entrada\n",
    "decoded_imgs = autoencoder.predict(x_ray_test)\n",
    "predictions_bin = (decoded_imgs > 0.5).astype(np.uint8)"
   ]
  },
  {
   "cell_type": "code",
   "execution_count": null,
   "id": "f2392594",
   "metadata": {
    "vscode": {
     "languageId": "plaintext"
    }
   },
   "outputs": [],
   "source": [
    "import matplotlib.pyplot as plt\n",
    "\n",
    "HEIGHT = 256\n",
    "WIDTH = 256\n",
    "\n",
    "# Mostrar las imágenes originales y generadas\n",
    "n = 15  # Número de imágenes a mostrar\n",
    "plt.figure(figsize=(20, 4))\n",
    "for i in range(n):\n",
    "    # Muestra la imagen original\n",
    "    ax = plt.subplot(3, n, i + 1)\n",
    "    plt.imshow(x_ray_test[i].reshape(HEIGHT, WIDTH), cmap=\"gray\")\n",
    "    plt.title(\"Original\")\n",
    "    plt.gray()\n",
    "    ax.get_xaxis().set_visible(False)\n",
    "    ax.get_yaxis().set_visible(False)\n",
    "\n",
    "    # Muestra la imagen reconstruida\n",
    "    ax = plt.subplot(3, n, i + 1 + n)\n",
    "    plt.imshow(predictions_bin[i].reshape(HEIGHT, WIDTH), cmap=\"gray\")\n",
    "    plt.title(\"Generada\")\n",
    "    plt.gray()\n",
    "    ax.get_xaxis().set_visible(False)\n",
    "    ax.get_yaxis().set_visible(False)\n",
    "\n",
    "    # Muestra la imagen original del roi\n",
    "    ax = plt.subplot(3, n, i + 1 + n + n)\n",
    "    plt.imshow(y_roi_test[i].reshape(HEIGHT, WIDTH), cmap=\"gray\")\n",
    "    plt.title(\"Original Roi\")\n",
    "    plt.gray()\n",
    "    ax.get_xaxis().set_visible(False)\n",
    "    ax.get_yaxis().set_visible(False)\n",
    "\n",
    "plt.show()"
   ]
  },
  {
   "cell_type": "code",
   "execution_count": null,
   "id": "0121cb2f",
   "metadata": {
    "vscode": {
     "languageId": "plaintext"
    }
   },
   "outputs": [],
   "source": [
    "import numpy as np\n",
    "\n",
    "def dice_coefficient(y_true, y_pred):\n",
    "    \"\"\"\n",
    "    Calcula el coeficiente de Dice entre dos máscaras binarias.\n",
    "\n",
    "    Parámetros:\n",
    "    - y_true: np.ndarray, máscara de referencia (ground truth).\n",
    "    - y_pred: np.ndarray, máscara predicha.\n",
    "\n",
    "    Retorna:\n",
    "    - coeficiente de Dice (float).\n",
    "    \"\"\"\n",
    "    y_true = np.asarray(y_true).astype(bool)\n",
    "    y_pred = np.asarray(y_pred).astype(bool)\n",
    "\n",
    "    if y_true.shape != y_pred.shape:\n",
    "        raise ValueError(\"Las máscaras deben tener la misma forma.\")\n",
    "\n",
    "    intersection = np.logical_and(y_true, y_pred).sum()\n",
    "    total = y_true.sum() + y_pred.sum()\n",
    "\n",
    "    if total == 0:\n",
    "      print('vacias')\n",
    "      return 1.0  # Ambas máscaras están vacías\n",
    "\n",
    "    return 2.0 * intersection / total"
   ]
  },
  {
   "cell_type": "code",
   "execution_count": null,
   "id": "2996294b",
   "metadata": {
    "vscode": {
     "languageId": "plaintext"
    }
   },
   "outputs": [],
   "source": [
    "dice_scores = []\n",
    "\n",
    "for i in range(len(x_ray_test)):\n",
    "    y_true = y_roi_test[i].squeeze()\n",
    "    y_pred = predictions_bin[i].squeeze()\n",
    "\n",
    "    dice = dice_coefficient(y_true, y_pred)\n",
    "\n",
    "    dice_scores.append(dice)\n",
    "    \n",
    "max(dice_scores)"
   ]
  },
  {
   "cell_type": "code",
   "execution_count": null,
   "id": "a2f96f5a",
   "metadata": {
    "vscode": {
     "languageId": "plaintext"
    }
   },
   "outputs": [],
   "source": [
    "import matplotlib.pyplot as plt\n",
    "\n",
    "eje_x = list(range(1, 199))\n",
    "\n",
    "# Datos de ejemplo\n",
    "x = eje_x\n",
    "y = dice_scores\n",
    "\n",
    "# Crear la figura y los ejes\n",
    "fig, ax = plt.subplots()\n",
    "\n",
    "# Trazar los datos\n",
    "ax.plot(x, y, marker='o')  # 'o' define un marcador circular en cada punto\n",
    "\n",
    "# Personalizar el gráfico\n",
    "ax.set_xlabel(\"Predictions vs Test images\")\n",
    "ax.set_ylabel(\"Dice Coefficient\")\n",
    "ax.set_title(\"Autoencoder-Unet\")\n",
    "\n",
    "# Mostrar el gráfico\n",
    "plt.show()"
   ]
  },
  {
   "cell_type": "code",
   "execution_count": null,
   "id": "fd7b0ba0",
   "metadata": {
    "vscode": {
     "languageId": "plaintext"
    }
   },
   "outputs": [],
   "source": [
    "import matplotlib.pyplot as plt\n",
    "import numpy as np\n",
    "\n",
    "# Datos de ejemplo\n",
    "x = list(range(1, 199))\n",
    "y1 = dice_scores\n",
    "y2 = dice_scores_dca\n",
    "\n",
    "# Crear la figura y los ejes\n",
    "plt.figure(figsize=(8, 5))\n",
    "\n",
    "# Trazar las dos curvas\n",
    "plt.plot(x, y1, label='unet-sin DCA', color='blue', marker='o')\n",
    "plt.plot(x, y2, label='unet-con DCA', color='red', marker='^')\n",
    "\n",
    "# Añadir título y etiquetas\n",
    "plt.title('Autoencoder U-Net [Sin DCA - Con DCA]')\n",
    "plt.xlabel('Predictions vs Test images')\n",
    "plt.ylabel('Dice Coefficient')\n",
    "\n",
    "# Mostrar la leyenda\n",
    "plt.legend()\n",
    "\n",
    "# Mostrar la gráfica\n",
    "plt.show()"
   ]
  }
 ],
 "metadata": {
  "language_info": {
   "name": "python"
  }
 },
 "nbformat": 4,
 "nbformat_minor": 5
}
